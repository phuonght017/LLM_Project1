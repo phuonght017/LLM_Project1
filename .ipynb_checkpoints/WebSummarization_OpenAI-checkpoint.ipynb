{
 "cells": [
  {
   "cell_type": "code",
   "execution_count": 1,
   "id": "4e2a9393-7767-488e-a8bf-27c12dca35bd",
   "metadata": {},
   "outputs": [],
   "source": [
    "# imports\n",
    "import os\n",
    "import requests\n",
    "from dotenv import load_dotenv\n",
    "from bs4 import BeautifulSoup\n",
    "from IPython.display import Markdown, display\n",
    "from openai import OpenAI\n",
    "\n",
    "from selenium import webdriver\n",
    "from selenium.webdriver.chrome.service import Service\n",
    "from selenium.webdriver.chrome.options import Options\n",
    "from selenium.webdriver.common.by import By\n",
    "from selenium.webdriver.support.ui import WebDriverWait\n",
    "from selenium.webdriver.support import expected_conditions as EC"
   ]
  },
  {
   "cell_type": "markdown",
   "id": "8b55fdbd-f1e4-4580-b998-c2e001cde1ad",
   "metadata": {},
   "source": [
    "# Connect to OpenAI (use API KEY)"
   ]
  },
  {
   "cell_type": "code",
   "execution_count": 2,
   "id": "7b87cadb-d513-4303-baee-a37b6f938e4d",
   "metadata": {},
   "outputs": [
    {
     "name": "stdout",
     "output_type": "stream",
     "text": [
      "API key found and looks good so far!\n"
     ]
    }
   ],
   "source": [
    "# Load environment variables in a file called .env\n",
    "\n",
    "load_dotenv(override=True)\n",
    "api_key = os.getenv('OPENAI_API_KEY')\n",
    "\n",
    "# Check the key\n",
    "\n",
    "if not api_key:\n",
    "    print(\"No API key was found - please head over to the troubleshooting notebook in this folder to identify & fix!\")\n",
    "elif not api_key.startswith(\"sk-proj-\"):\n",
    "    print(\"An API key was found, but it doesn't start sk-proj-; please check you're using the right key - see troubleshooting notebook\")\n",
    "elif api_key.strip() != api_key:\n",
    "    print(\"An API key was found, but it looks like it might have space or tab characters at the start or end - please remove them - see troubleshooting notebook\")\n",
    "else:\n",
    "    print(\"API key found and looks good so far!\")\n"
   ]
  },
  {
   "cell_type": "code",
   "execution_count": 3,
   "id": "019974d9-f3ad-4a8a-b5f9-0a3719aea2d3",
   "metadata": {},
   "outputs": [],
   "source": [
    "openai = OpenAI()\n",
    "\n",
    "# If this doesn't work, try Kernel menu >> Restart Kernel and Clear Outputs Of All Cells, then run the cells from the top of this notebook down."
   ]
  },
  {
   "cell_type": "markdown",
   "id": "2aa190e5-cb31-456a-96cc-db109919cd78",
   "metadata": {},
   "source": [
    "## Define class Website to crawl contents from webpage with given URL\n",
    "- Use `requests` to send HTTP requests and retrieve webpage content in Python. It allows you to fetch HTML pages and interact with web APIs. Instead of `requests`, we can use `selenium` to handle JavaScripts-rendered contents.\n",
    "- Use `BeautifulSoup` to parse HTML and XML documents. It helps extract and navigate data from web pages.\n",
    "  "
   ]
  },
  {
   "cell_type": "code",
   "execution_count": 4,
   "id": "edb96542-f03a-4b60-ba86-89dafc87153b",
   "metadata": {},
   "outputs": [
    {
     "name": "stdout",
     "output_type": "stream",
     "text": [
      "/opt/homebrew/bin/chromedriver\n"
     ]
    }
   ],
   "source": [
    "!which chromedriver"
   ]
  },
  {
   "cell_type": "code",
   "execution_count": 5,
   "id": "c5e793b2-6775-426a-a139-4848291d0463",
   "metadata": {},
   "outputs": [],
   "source": [
    "# A class to represent a Webpage\n",
    "# If you're not familiar with Classes, check out the \"Intermediate Python\" notebook\n",
    "\n",
    "# Some websites need you to use proper headers when fetching them:\n",
    "headers = {\n",
    " \"User-Agent\": \"Mozilla/5.0 (Windows NT 10.0; Win64; x64) AppleWebKit/537.36 (KHTML, like Gecko) Chrome/117.0.0.0 Safari/537.36\"\n",
    "}\n",
    "\n",
    "class Website:\n",
    "\n",
    "    def __init__(self, url):\n",
    "        \"\"\"\n",
    "        Create this Website object from the given url using the BeautifulSoup library\n",
    "        \"\"\"\n",
    "        self.url = url\n",
    "        options = Options()\n",
    "        options.add_argument(\"--headless\")\n",
    "        options.add_argument(\"--disable-gpu\")\n",
    "        options.add_argument(\"--no-sandbox\")\n",
    "        options.add_argument(f\"user-agent={headers['User-Agent']}\")\n",
    "        \n",
    "        service = Service(\"/opt/homebrew/bin/chromedriver\")  # Update with actual path\n",
    "        driver = webdriver.Chrome(service=service, options=options)\n",
    "        driver.get(url)\n",
    "        \n",
    "        try:\n",
    "            WebDriverWait(driver, 10).until(\n",
    "                EC.presence_of_element_located((By.TAG_NAME, \"body\"))\n",
    "            )\n",
    "            soup = BeautifulSoup(driver.page_source, 'html.parser')\n",
    "            self.title = soup.title.string if soup.title else \"No title found\"\n",
    "            \n",
    "            if soup.body:\n",
    "                for irrelevant in soup.body([\"script\", \"style\", \"img\", \"input\"]):\n",
    "                    irrelevant.decompose()\n",
    "                self.text = soup.body.get_text(separator=\"\\n\", strip=True)\n",
    "            else:\n",
    "                self.text = \"No content found\"\n",
    "        finally:\n",
    "            driver.quit()"
   ]
  },
  {
   "cell_type": "markdown",
   "id": "6a478a0c-2c53-48ff-869c-4d08199931e1",
   "metadata": {},
   "source": [
    "## Types of prompts\n",
    "\n",
    "You may know this already - but if not, you will get very familiar with it!\n",
    "\n",
    "Models like GPT4o have been trained to receive instructions in a particular way.\n",
    "\n",
    "They expect to receive:\n",
    "\n",
    "**A system prompt** that tells them what task they are performing and what tone they should use\n",
    "\n",
    "**A user prompt** -- the conversation starter that they should reply to"
   ]
  },
  {
   "cell_type": "code",
   "execution_count": 6,
   "id": "abdb8417-c5dc-44bc-9bee-2e059d162699",
   "metadata": {},
   "outputs": [],
   "source": [
    "# Define our system prompt \n",
    "system_prompt = \"You are an assistant that analyzes the contents of a website \\\n",
    "and provides a short summary, ignoring text that might be navigation related. \\\n",
    "Respond in markdown in Vietnamese.\""
   ]
  },
  {
   "cell_type": "code",
   "execution_count": 7,
   "id": "f0275b1b-7cfe-4f9d-abfa-7650d378da0c",
   "metadata": {},
   "outputs": [],
   "source": [
    "# A function that writes a User Prompt that asks for summaries of websites:\n",
    "def user_prompt_for(website):\n",
    "    user_prompt = f\"You are looking at a website titled {website.title}\"\n",
    "    user_prompt += \"\\nThe contents of this website is as follows; \\\n",
    "please provide a short summary of this website in markdown. \\\n",
    "If it includes news or announcements, then summarize these too.\\n\\n\"\n",
    "    user_prompt += website.text\n",
    "    return user_prompt"
   ]
  },
  {
   "cell_type": "markdown",
   "id": "ea211b5f-28e1-4a86-8e52-c0b7677cadcc",
   "metadata": {},
   "source": [
    "## Messages\n",
    "\n",
    "The API from OpenAI expects to receive messages in a particular structure.\n",
    "Many of the other APIs share this structure:\n",
    "\n",
    "```\n",
    "[\n",
    "    {\"role\": \"system\", \"content\": \"system message goes here\"},\n",
    "    {\"role\": \"user\", \"content\": \"user message goes here\"}\n",
    "]\n",
    "\n",
    "To give you a preview, the next 2 cells make a rather simple call - we won't stretch the mighty GPT (yet!)"
   ]
  },
  {
   "cell_type": "code",
   "execution_count": 8,
   "id": "f25dcd35-0cd0-4235-9f64-ac37ed9eaaa5",
   "metadata": {},
   "outputs": [],
   "source": [
    "messages = [\n",
    "    {\"role\": \"system\", \"content\": \"You are a snarky assistant\"},\n",
    "    {\"role\": \"user\", \"content\": \"What is 2 + 2?\"}\n",
    "]"
   ]
  },
  {
   "cell_type": "markdown",
   "id": "d06e8d78-ce4c-4b05-aa8e-17050c82bb47",
   "metadata": {},
   "source": [
    "## And now let's build useful messages for GPT-4o-mini, using a function"
   ]
  },
  {
   "cell_type": "code",
   "execution_count": 9,
   "id": "0134dfa4-8299-48b5-b444-f2a8c3403c88",
   "metadata": {},
   "outputs": [],
   "source": [
    "# See how this function creates exactly the format above\n",
    "\n",
    "def messages_for(website):\n",
    "    return [\n",
    "        {\"role\": \"system\", \"content\": system_prompt},\n",
    "        {\"role\": \"user\", \"content\": user_prompt_for(website)}\n",
    "    ]"
   ]
  },
  {
   "cell_type": "markdown",
   "id": "16f49d46-bf55-4c3e-928f-68fc0bf715b0",
   "metadata": {},
   "source": [
    "## Time to bring it together - the API for OpenAI is very simple!"
   ]
  },
  {
   "cell_type": "code",
   "execution_count": 10,
   "id": "905b9919-aba7-45b5-ae65-81b3d1d78e34",
   "metadata": {},
   "outputs": [],
   "source": [
    "# And now: call the OpenAI API. You will get very familiar with this!\n",
    "\n",
    "def summarize(url):\n",
    "    website = Website(url)\n",
    "    response = openai.chat.completions.create(\n",
    "        model = \"gpt-4o-mini\",\n",
    "        messages = messages_for(website)\n",
    "    )\n",
    "    return response.choices[0].message.content"
   ]
  },
  {
   "cell_type": "code",
   "execution_count": 11,
   "id": "05e38d41-dfa4-4b20-9c96-c46ea75d9fb5",
   "metadata": {},
   "outputs": [
    {
     "data": {
      "text/plain": [
       "'## Tóm tắt trang web Edward Donner\\n\\nTrang web của Edward Donner cung cấp thông tin về cá nhân và công việc của ông. Edward là một lập trình viên và chuyên gia trong lĩnh vực trí tuệ nhân tạo (AI), đồng thời là đồng sáng lập và Giám đốc Công nghệ (CTO) của Nebula.io, nơi ứng dụng AI để giúp người dùng khám phá tiềm năng của họ. Ông cũng là người sáng lập và CEO của công ty khởi nghiệp AI untapt, đã được mua lại vào năm 2021. \\n\\nTrang web còn giới thiệu một số sự kiện và bài viết liên quan đến trí tuệ nhân tạo, đặc biệt là về các mô hình ngôn ngữ lớn (LLMs). Một số thông tin cập nhật gần đây bao gồm:\\n\\n- **23 tháng 1, 2025**: Hội thảo về LLM – Tài nguyên thực hành với các đại lý.\\n- **21 tháng 12, 2024**: Chào mừng, SuperDataScientists!\\n- **13 tháng 11, 2024**: Tài nguyên cho việc nâng cao kỹ năng AI và kỹ thuật LLM.\\n- **16 tháng 10, 2024**: Tài nguyên chuyển từ Kỹ sư Phần mềm sang Nhà khoa học Dữ liệu AI.\\n\\nTrang web khuyến khích kết nối và tương tác với Edward, cũng như cung cấp thông tin về đam mê của ông trong âm nhạc và công nghệ.'"
      ]
     },
     "execution_count": 11,
     "metadata": {},
     "output_type": "execute_result"
    }
   ],
   "source": [
    "summarize(\"https://edwarddonner.com\")"
   ]
  },
  {
   "cell_type": "code",
   "execution_count": 14,
   "id": "3d926d59-450e-4609-92ba-2d6f244f1342",
   "metadata": {},
   "outputs": [],
   "source": [
    "# A function to display this nicely in the Jupyter output, using markdown\n",
    "\n",
    "def display_summary(url):\n",
    "    summary = summarize(url)\n",
    "    display(Markdown(summary))"
   ]
  },
  {
   "cell_type": "code",
   "execution_count": 15,
   "id": "3018853a-445f-41ff-9560-d925d1774b2f",
   "metadata": {},
   "outputs": [
    {
     "data": {
      "text/markdown": [
       "# Tóm tắt trang web Edward Donner\n",
       "\n",
       "Trang web của Edward Donner giới thiệu về cá nhân Ed, một lập trình viên và nhà thử nghiệm LLM (Large Language Model). Ed là đồng sáng lập và CTO của Nebula.io, một công ty ứng dụng trí tuệ nhân tạo để giúp mọi người khám phá tiềm năng của họ trong lĩnh vực tuyển dụng. Ông đã từng là người sáng lập và CEO của startup AI untapt, được mua lại vào năm 2021.\n",
       "\n",
       "Trang web cũng có một số bài viết và resources liên quan đến LLM, bao gồm:\n",
       "\n",
       "- **LLM Workshop – Hands-on with Agents – resources** (23 tháng 1, 2025)\n",
       "- **Welcome, SuperDataScientists!** (21 tháng 12, 2024)\n",
       "- **Mastering AI and LLM Engineering – Resources** (13 tháng 11, 2024)\n",
       "- **From Software Engineer to AI Data Scientist – resources** (16 tháng 10, 2024)\n",
       "\n",
       "Ed cũng chia sẻ sở thích của mình về DJing và sản xuất nhạc điện tử nghiệp dư, và Mời mọi người kết nối để cùng chia sẻ đam mê."
      ],
      "text/plain": [
       "<IPython.core.display.Markdown object>"
      ]
     },
     "metadata": {},
     "output_type": "display_data"
    }
   ],
   "source": [
    "display_summary(\"https://edwarddonner.com\")"
   ]
  },
  {
   "cell_type": "code",
   "execution_count": 16,
   "id": "c88a1b77-c6f3-456b-b266-c4036cc3c0ca",
   "metadata": {},
   "outputs": [
    {
     "data": {
      "text/markdown": [
       "# Tóm tắt trang web \"Top Gaining US Stocks - TradingView\"\n",
       "\n",
       "Trang web \"Top Gaining US Stocks\" của TradingView cung cấp thông tin về những cổ phiếu Mỹ tăng giá mạnh nhất trong ngày. Danh sách này bao gồm các công ty có tỷ lệ tăng trưởng giá cổ phiếu lớn nhất, cho phép người dùng theo dõi các cơ hội đầu tư tiềm năng.\n",
       "\n",
       "## Nội dung chính:\n",
       "- **Danh sách cổ phiếu tăng giá hàng đầu**: Cung cấp thông tin chi tiết về từng cổ phiếu, bao gồm phần trăm thay đổi, giá hiện tại, khối lượng giao dịch, vốn hóa thị trường, và tỷ lệ P/E.\n",
       "- **Các chỉ số tài chính**: Thông tin về doanh thu, lợi nhuận, và các chỉ số tài chính khác của các công ty.\n",
       "- **Phân loại cổ phiếu theo loại**: Bao gồm cổ phiếu có vốn hóa lớn, nhỏ, cổ tức cao, và các tỷ số khác như lợi nhuận trên mỗi nhân viên, doanh thu cao nhất, v.v.\n",
       "\n",
       "## Tin tức và thông báo:\n",
       "Trang web không cung cấp thông tin tin tức hoặc thông báo cụ thể nào nhưng nhấn mạnh việc người dùng cần cân nhắc các số liệu thống kê trước khi đầu tư, do có rủi ro hồi phục giá cổ phiếu.\n",
       "\n",
       "### Các công ty và hiệu suất nổi bật:\n",
       "- **ORGO** (Organogenesis Holdings Inc.): Tăng 102.28%\n",
       "- **TRNR** (Interactive Strength Inc.): Tăng 67.97%\n",
       "- **OMI** (Owens & Minor, Inc.): Tăng 39.04%\n",
       "\n",
       "Website này phục vụ cho các nhà đầu tư muốn theo dõi và phân tích các xu hướng thị trường chứng khoán Mỹ."
      ],
      "text/plain": [
       "<IPython.core.display.Markdown object>"
      ]
     },
     "metadata": {},
     "output_type": "display_data"
    }
   ],
   "source": [
    "display_summary(\"https://www.tradingview.com/markets/stocks-usa/market-movers-gainers/\")\n"
   ]
  },
  {
   "cell_type": "markdown",
   "id": "36ed9f14-b349-40e9-a42c-b367e77f8bda",
   "metadata": {},
   "source": [
    "## An extra exercise for those who enjoy web scraping\n",
    "\n",
    "You may notice that if you try `display_summary(\"https://openai.com\")` - it doesn't work! That's because OpenAI has a fancy website that uses Javascript. There are many ways around this that some of you might be familiar with. For example, Selenium is a hugely popular framework that runs a browser behind the scenes, renders the page, and allows you to query it. If you have experience with Selenium, Playwright or similar, then feel free to improve the Website class to use them. In the community-contributions folder, you'll find an example Selenium solution from a student (thank you!)"
   ]
  }
 ],
 "metadata": {
  "kernelspec": {
   "display_name": "Python 3 (ipykernel)",
   "language": "python",
   "name": "python3"
  },
  "language_info": {
   "codemirror_mode": {
    "name": "ipython",
    "version": 3
   },
   "file_extension": ".py",
   "mimetype": "text/x-python",
   "name": "python",
   "nbconvert_exporter": "python",
   "pygments_lexer": "ipython3",
   "version": "3.11.11"
  }
 },
 "nbformat": 4,
 "nbformat_minor": 5
}
